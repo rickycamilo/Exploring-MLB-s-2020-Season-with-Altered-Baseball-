{
  "nbformat": 4,
  "nbformat_minor": 0,
  "metadata": {
    "colab": {
      "name": "Juiced Baseballs Project (Predictive Model Hitting) .ipynb",
      "provenance": [],
      "collapsed_sections": []
    },
    "kernelspec": {
      "name": "python3",
      "display_name": "Python 3"
    },
    "language_info": {
      "name": "python"
    }
  },
  "cells": [
    {
      "cell_type": "code",
      "execution_count": null,
      "metadata": {
        "id": "Wyo5i4m4ygxt"
      },
      "outputs": [],
      "source": [
        "%pip install pybaseball==2.2.1\n",
        "%matplotlib inline\n",
        "import pandas as pd; \n",
        "pd.set_option('display.max_rows', None)\n",
        "pd.set_option('display.max_columns', None)\n",
        "pd.set_option('display.width', None)\n",
        "pd.set_option('display.max_colwidth', -1)\n",
        "pd.set_option('display.float_format', lambda x: '%.5f' % x)\n",
        "\n",
        "import seaborn as sns\n",
        "import sklearn as sk\n",
        "import pybaseball as pyb\n",
        "from matplotlib import pyplot as plt\n",
        "from pybaseball import cache\n",
        "cache.enable()\n",
        "import warnings; warnings.filterwarnings('ignore')\n"
      ]
    },
    {
      "cell_type": "code",
      "source": [
        "example_df = pd.DataFrame({\n",
        "   # 'Team' : ['HOU', 'MIN', 'NYY', 'LAD', 'BOS', 'WSN', 'ATL', 'CHC', 'COL', 'OAK', 'NYM', 'MIL' 'TBR', 'ARI', 'CLE', 'TEX', 'LAA', 'PHI', 'STL', 'SEA', 'PIT', 'CIN', 'TOR', 'CHW', 'BAL', 'SDP', 'KCR', 'SFG', 'DET','MIA'],\n",
        "    '2018_hr_total' : [208, 267, 235, 216, 227, 205, 191, 210, 150, 218, 167, 175, 217, 172, 205, 194, 214, 166, 176, 157, 186, 176, 170, 182, 155, 188, 135, 162, 133, 128],\n",
        "    '2018_ab_total' : [5623, 5515, 5572, 5595, 5579, 5453, 5517, 5541, 5475, 5542, 5624, 5582, 5477, 5532, 5498, 5453, 5472, 5526, 5513, 5447, 5424, 5460, 5468, 5523, 5505, 5523, 5505, 5507, 5494, 5486,],\n",
        "    '2019_hr_total' : [288, 307, 306, 279, 245, 231, 249, 256, 224, 257, 242, 250, 217, 220, 223, 223, 220, 215, 210, 239, 163, 227, 247, 182, 213, 219, 162, 167, 149, 146],\n",
        "    '2019_ab_total' : [5613, 5732, 5583, 5493, 5770, 5512, 5560, 5461, 5660, 5561, 5624, 5542, 5628, 5633, 5425, 5540, 5542, 5571, 5449, 5500, 5657, 5450, 5493, 5529, 5596, 5391, 5496, 5579, 5549, 5512, ]\n",
        "\n",
        "\n",
        "})"
      ],
      "metadata": {
        "id": "2wF0et15zRkW"
      },
      "execution_count": null,
      "outputs": []
    },
    {
      "cell_type": "code",
      "source": [
        "example_df"
      ],
      "metadata": {
        "id": "p8jLzmPuuB_m"
      },
      "execution_count": null,
      "outputs": []
    },
    {
      "cell_type": "code",
      "source": [
        "hits_df = pyb.team_batting(2015, 2019)\n",
        "hits_2019 = pyb.team_batting(2018, 2019)"
      ],
      "metadata": {
        "id": "LVsaaK-31ecf"
      },
      "execution_count": null,
      "outputs": []
    },
    {
      "cell_type": "code",
      "source": [
        "# creating our df for predicting a full 2020 season \n",
        "\n",
        "hits_df_copy = hits_df.copy()\n",
        "\n",
        "hits_df_copy = hits_df_copy.loc[:, ['Season', 'Team', 'G', 'AB', 'H', 'HR', 'RBI', 'AVG', 'OBP', 'SLG', 'OPS', 'wRC', 'WAR']]\n",
        "\n",
        "hits_df_copy['G_Next_Year'] = hits_df_copy.sort_values(['Season', 'Team'], ascending=False).groupby('Team')['G'].shift()\n",
        "hits_df_copy['H_Next_Year'] = hits_df_copy.sort_values(['Season', 'Team'], ascending=False).groupby('Team')['H'].shift()\n",
        "hits_df_copy['AB_Next_Year'] = hits_df_copy.sort_values(['Season', 'Team'], ascending=False).groupby('Team')['AB'].shift()\n",
        "hits_df_copy['HR_Next_Year'] = hits_df_copy.sort_values(['Season', 'Team'], ascending=False).groupby('Team')['HR'].shift()\n",
        "hits_df_copy['RBI_Next_Year'] = hits_df_copy.sort_values(['Season', 'Team'], ascending=False).groupby('Team')['RBI'].shift()\n",
        "hits_df_copy['AVG_Next_Year'] = hits_df_copy.sort_values(['Season', 'Team'], ascending=False).groupby('Team')['AVG'].shift()\n",
        "hits_df_copy['SLG_Next_Year'] = hits_df_copy.sort_values(['Season', 'Team'], ascending=False).groupby('Team')['SLG'].shift()\n",
        "hits_df_copy['wRC_Next_Year'] = hits_df_copy.sort_values(['Season', 'Team'], ascending=False).groupby('Team')['wRC'].shift()\n",
        "hits_df_copy['WAR_Next_Year'] = hits_df_copy.sort_values(['Season', 'Team'], ascending=False).groupby('Team')['WAR'].shift()\n",
        "\n",
        "\n",
        "\n",
        "hits_df_copy = hits_df_copy.loc[hits_df_copy['G_Next_Year'].notnull()]\n",
        "hits_df_copy = hits_df_copy.loc[hits_df_copy['H_Next_Year'].notnull()]\n",
        "hits_df_copy = hits_df_copy.loc[hits_df_copy['AB_Next_Year'].notnull()]\n",
        "hits_df_copy = hits_df_copy.loc[hits_df_copy['HR_Next_Year'].notnull()]\n",
        "hits_df_copy = hits_df_copy.loc[hits_df_copy['RBI_Next_Year'].notnull()]\n",
        "hits_df_copy = hits_df_copy.loc[hits_df_copy['AVG_Next_Year'].notnull()]\n",
        "hits_df_copy = hits_df_copy.loc[hits_df_copy['SLG_Next_Year'].notnull()]\n",
        "hits_df_copy = hits_df_copy.loc[hits_df_copy['wRC_Next_Year'].notnull()]\n",
        "hits_df_copy = hits_df_copy.loc[hits_df_copy['WAR_Next_Year'].notnull()]\n",
        "\n",
        "\n",
        "hits_df_copy\n"
      ],
      "metadata": {
        "id": "JrYLL3Ct13kA"
      },
      "execution_count": null,
      "outputs": []
    },
    {
      "cell_type": "code",
      "source": [
        "hits_df_copy.corr() "
      ],
      "metadata": {
        "id": "aC__RJGH8ufA"
      },
      "execution_count": null,
      "outputs": []
    },
    {
      "cell_type": "code",
      "source": [
        "# splitting our data for x, y training and testing\n",
        "\n",
        "from sklearn.model_selection import train_test_split\n",
        "\n",
        "X = hits_df_copy[['G', 'AB', 'H', 'HR', 'RBI', 'AVG', 'SLG', 'wRC', 'WAR' ]].values\n",
        "y= hits_df_copy[['G_Next_Year', 'AB_Next_Year', 'H_Next_Year', 'HR_Next_Year', 'RBI_Next_Year', 'AVG_Next_Year', 'SLG_Next_Year', 'wRC_Next_Year', 'WAR_Next_Year' ]].values\n",
        "\n",
        "print('Original Data Shape - X: {0}, Y: {1}'.format(X.shape, y.shape))\n",
        "X_train, X_test, y_train, y_test = train_test_split(X, y, test_size=0.2, random_state=42)       #test size is 20% of original\n",
        "\n",
        "\n",
        "print('Train Data Shape - X{0}, Y:{1}.'.format(X_train.shape, y_train.shape) )\n",
        "print('Test Data Shape - X{0}, Y:{1}.'.format(X_test.shape, y_test.shape) )"
      ],
      "metadata": {
        "id": "1vvTXuTc5hbR"
      },
      "execution_count": null,
      "outputs": []
    },
    {
      "cell_type": "code",
      "source": [
        "#taking our training data and fitting it into our regression model \n",
        "\n",
        "from sklearn.linear_model import LinearRegression\n",
        "from sklearn.metrics import mean_absolute_error\n",
        "\n",
        "\n",
        "lr = LinearRegression()\n",
        "\n",
        "lr.fit(X_train, y_train)"
      ],
      "metadata": {
        "colab": {
          "base_uri": "https://localhost:8080/"
        },
        "id": "zcSro70Y887o",
        "outputId": "0c854721-8031-4f21-8afa-2f0132938730"
      },
      "execution_count": null,
      "outputs": [
        {
          "output_type": "execute_result",
          "data": {
            "text/plain": [
              "LinearRegression()"
            ]
          },
          "metadata": {},
          "execution_count": 22
        }
      ]
    },
    {
      "cell_type": "code",
      "source": [
        "\n",
        "y_pred = lr.predict(X_train)\n",
        "\n",
        "print ('Mean number of hits:', X_train[:, 0].mean())\n",
        "print ('Mean absolute error:', mean_absolute_error(y_pred, y_train))"
      ],
      "metadata": {
        "colab": {
          "base_uri": "https://localhost:8080/"
        },
        "id": "a557yVJx9obx",
        "outputId": "478e1f17-636a-4046-e435-69bd0dfd9d6a"
      },
      "execution_count": null,
      "outputs": [
        {
          "output_type": "stream",
          "name": "stdout",
          "text": [
            "Mean number of hits: 2364.7916666666665\n",
            "Mean absolute error: 29.59835920038931\n"
          ]
        }
      ]
    },
    {
      "cell_type": "code",
      "source": [
        "hits_2019_copy = hits_2019.copy()\n",
        "\n",
        "hits_2019_copy = hits_2019_copy.loc[:,['Season', 'Team', 'G', 'AB', 'H', 'HR', 'RBI', 'AVG', 'OBP', 'SLG', 'OPS', 'wRC', 'WAR']]\n",
        "\n",
        "hits_2019_copy['2019_actual_g'] = hits_2019_copy.sort_values(['Team', 'Season'], ascending=False).groupby('Team')['G'].shift()\n",
        "hits_2019_copy['2019_actual_ab'] = hits_2019_copy.sort_values(['Team', 'Season'], ascending=False).groupby('Team')['AB'].shift()\n",
        "hits_2019_copy['2019_actual_hits'] = hits_2019_copy.sort_values(['Team', 'Season'], ascending=False).groupby('Team')['H'].shift()\n",
        "hits_2019_copy['2019_actual_hr'] = hits_2019_copy.sort_values(['Team', 'Season'], ascending=False).groupby('Team')['HR'].shift()\n",
        "hits_2019_copy['2019_actual_rbi'] = hits_2019_copy.sort_values(['Team', 'Season'], ascending=False).groupby('Team')['RBI'].shift()\n",
        "hits_2019_copy['2019_actual_avg'] = hits_2019_copy.sort_values(['Team', 'Season'], ascending=False).groupby('Team')['AVG'].shift()\n",
        "hits_2019_copy['2019_actual_slg'] = hits_2019_copy.sort_values(['Team', 'Season'], ascending=False).groupby('Team')['SLG'].shift()\n",
        "hits_2019_copy['2019_actual_wRC'] = hits_2019_copy.sort_values(['Team', 'Season'], ascending=False).groupby('Team')['wRC'].shift()\n",
        "hits_2019_copy['2019_actual_WAR'] = hits_2019_copy.sort_values(['Team', 'Season'], ascending=False).groupby('Team')['WAR'].shift()\n",
        "\n",
        "\n",
        "hits_2019_copy = hits_2019_copy.loc[hits_2019_copy['2019_actual_hits'].notnull()]\n",
        "\n",
        "hits_2019_copy\n"
      ],
      "metadata": {
        "id": "zmpNkNRX_0lK"
      },
      "execution_count": null,
      "outputs": []
    },
    {
      "cell_type": "code",
      "source": [
        "X = hits_2019_copy[['G', 'AB', 'H', 'HR', 'RBI', 'AVG', 'SLG', 'wRC', 'WAR', ]].values\n",
        "y = hits_2019_copy[['2019_actual_g', '2019_actual_ab','2019_actual_hits', '2019_actual_hr', '2019_actual_rbi', '2019_actual_avg', '2019_actual_slg', '2019_actual_wRC', '2019_actual_WAR' ]].values\n",
        "\n"
      ],
      "metadata": {
        "id": "KL62dOL7Cv_n"
      },
      "execution_count": null,
      "outputs": []
    },
    {
      "cell_type": "code",
      "source": [
        "y_pred = lr.predict(X)\n",
        "print('Mean of Stats:', hits_2019_copy.mean())\n",
        "print('Mean absolute error:', mean_absolute_error(y_pred, y))"
      ],
      "metadata": {
        "id": "cROhSfE-BUz1",
        "colab": {
          "base_uri": "https://localhost:8080/"
        },
        "outputId": "93519e55-73d8-43d6-f09c-cca0b35b291c"
      },
      "execution_count": null,
      "outputs": [
        {
          "output_type": "stream",
          "name": "stdout",
          "text": [
            "Mean of Stats: Season             2018.00000\n",
            "G                  2386.33333\n",
            "AB                 5514.40000\n",
            "H                  1367.26667\n",
            "HR                 186.16667 \n",
            "RBI                686.86667 \n",
            "AVG                0.24783   \n",
            "OBP                0.31797   \n",
            "SLG                0.40923   \n",
            "OPS                0.72723   \n",
            "wRC                719.33333 \n",
            "WAR                19.01333  \n",
            "2019_actual_g      2389.46667\n",
            "2019_actual_ab     5555.03333\n",
            "2019_actual_hits   1401.30000\n",
            "2019_actual_hr     225.86667 \n",
            "2019_actual_rbi    749.03333 \n",
            "2019_actual_avg    0.25217   \n",
            "2019_actual_slg    0.43467   \n",
            "2019_actual_wRC    780.53333 \n",
            "2019_actual_WAR    18.99000  \n",
            "dtype: float64\n",
            "Mean absolute error: 34.894989354342385\n"
          ]
        }
      ]
    },
    {
      "cell_type": "code",
      "source": [
        "hits_2019_copy[['Predicted_G', 'Predicted_AB', 'Predicted_H', 'Predicted_HR', 'Predicted_RBI', 'Predicted_AVG', 'Predicted_SLG', 'Predicted_wRC', 'Predicted_WAR']] = y_pred\n",
        "\n",
        "hits_2019_copy['Season'] = 2019\n",
        "\n",
        "#hits_2019_copy = hits_2019_copy.rename(columns={'2019_actual_g':'Actual_G'})\n",
        "\n",
        "#use sort_values to find the top predicted hits\n",
        "hits_2019_copy = hits_2019_copy.loc[:,['Season','Team','2019_actual_g', '2019_actual_ab', '2019_actual_hits', '2019_actual_hr', '2019_actual_rbi' , '2019_actual_avg' , '2019_actual_slg', '2019_actual_wRC', '2019_actual_WAR', 'Predicted_G', 'Predicted_AB', 'Predicted_H', 'Predicted_HR', 'Predicted_RBI', 'Predicted_AVG', 'Predicted_SLG', 'Predicted_wRC', 'Predicted_WAR']]\n",
        "\n"
      ],
      "metadata": {
        "id": "IlMURDgABU8d"
      },
      "execution_count": null,
      "outputs": []
    },
    {
      "cell_type": "code",
      "source": [
        "hits_2019_copy"
      ],
      "metadata": {
        "id": "Ml2UDNXXaIsZ"
      },
      "execution_count": null,
      "outputs": []
    },
    {
      "cell_type": "code",
      "source": [
        "predicted_2020_stats = hits_2019_copy.loc[:,['Team', 'Predicted_G', 'Predicted_AB', 'Predicted_H', 'Predicted_HR', 'Predicted_RBI', 'Predicted_AVG', 'Predicted_SLG', 'Predicted_wRC', 'Predicted_WAR']]\n",
        "\n",
        "predicted_2020_stats\n"
      ],
      "metadata": {
        "id": "FjhJsQrHgu4I"
      },
      "execution_count": null,
      "outputs": []
    },
    {
      "cell_type": "code",
      "source": [
        "predicted_2020_stats.sum()"
      ],
      "metadata": {
        "colab": {
          "base_uri": "https://localhost:8080/"
        },
        "id": "AW5IoU0BhuO2",
        "outputId": "c08c4076-f1bb-4e99-9fb9-7f86fba86166"
      },
      "execution_count": null,
      "outputs": [
        {
          "output_type": "execute_result",
          "data": {
            "text/plain": [
              "Team             BOSNYYLADCLEOAKHOUWSNCOLTBRMILCHCATLTORCINSTLTEXLAAMINSEAPITPHIARINYMCHWKCRBALDETSDPSFGMIA\n",
              "Predicted_G     71491.06157                                                                                \n",
              "Predicted_AB    166014.21378                                                                               \n",
              "Predicted_H     41745.17895                                                                                \n",
              "Predicted_HR    6329.10020                                                                                 \n",
              "Predicted_RBI   21868.88340                                                                                \n",
              "Predicted_AVG   7.54257                                                                                    \n",
              "Predicted_SLG   12.78855                                                                                   \n",
              "Predicted_wRC   22750.76427                                                                                \n",
              "Predicted_WAR   595.44285                                                                                  \n",
              "dtype: object"
            ]
          },
          "metadata": {},
          "execution_count": 32
        }
      ]
    }
  ]
}