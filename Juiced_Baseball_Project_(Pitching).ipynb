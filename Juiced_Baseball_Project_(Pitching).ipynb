{
  "nbformat": 4,
  "nbformat_minor": 0,
  "metadata": {
    "colab": {
      "name": "Juiced Baseball Project (Pitching).ipynb",
      "provenance": []
    },
    "kernelspec": {
      "name": "python3",
      "display_name": "Python 3"
    },
    "language_info": {
      "name": "python"
    }
  },
  "cells": [
    {
      "cell_type": "code",
      "execution_count": null,
      "metadata": {
        "id": "4Q2od7W-yzF8",
        "colab": {
          "base_uri": "https://localhost:8080/"
        },
        "outputId": "ece584a4-e932-41f4-95ca-2efe2e7c92bb"
      },
      "outputs": [
        {
          "output_type": "stream",
          "name": "stdout",
          "text": [
            "Requirement already satisfied: wrapt<2,>=1.10 in /usr/local/lib/python3.7/dist-packages (from deprecated->pygithub>=1.51->pybaseball==2.2.1) (1.13.3)\n",
            "Installing collected packages: pynacl, pyjwt, deprecated, pygithub, pybaseball\n",
            "Successfully installed deprecated-1.2.13 pybaseball-2.2.1 pygithub-1.55 pyjwt-2.3.0 pynacl-1.5.0\n"
          ]
        },
        {
          "output_type": "stream",
          "name": "stderr",
          "text": [
            "/usr/local/lib/python3.7/dist-packages/ipykernel_launcher.py:7: FutureWarning: Passing a negative integer is deprecated in version 1.0 and will not be supported in future version. Instead, use None to not limit the column width.\n",
            "  import sys\n"
          ]
        }
      ],
      "source": [
        "%pip install pybaseball==2.2.1\n",
        "%matplotlib inline\n",
        "import pandas as pd; \n",
        "pd.set_option('display.max_rows', None)\n",
        "pd.set_option('display.max_columns', None)\n",
        "pd.set_option('display.width', None)\n",
        "pd.set_option('display.max_colwidth', -1)\n",
        "pd.set_option('display.float_format', lambda x: '%.5f' % x)\n",
        "\n",
        "import seaborn as sns\n",
        "import sklearn as sk\n",
        "import pybaseball as pyb\n",
        "from matplotlib import pyplot as plt\n",
        "from pybaseball import cache\n",
        "cache.enable()\n",
        "import warnings; warnings.filterwarnings('ignore')\n"
      ]
    },
    {
      "cell_type": "code",
      "source": [
        "#importing cumulative team pitching stats from pybaseball\n",
        "\n",
        "from pybaseball import team_pitching\n",
        "\n",
        "pitching_stats_2018 = pyb.team_pitching(2018)\n",
        "pitching_stats_2019 = pyb.team_pitching(2019)\n",
        "pitching_stats_2020 = pyb.team_pitching(2020)\n",
        "pitching_stats_2021 = pyb.team_pitching(2021)\n",
        "\n",
        "\n",
        "pitching_stats_2018 = pitching_stats_2018.loc[:, :'WAR']\n",
        "\n",
        "pitching_stats_2019 = pitching_stats_2019.loc[:, :'WAR']\n",
        "                                              \n",
        "pitching_stats_2020 = pitching_stats_2020.loc[:, :'WAR']\n",
        "                                              \n",
        "pitching_stats_2021 = pitching_stats_2021.loc[:, :'WAR']\n",
        "\n",
        "pitching_stats_2018\n",
        "\n",
        "                                              "
      ],
      "metadata": {
        "id": "xV9t2_4uzOJp"
      },
      "execution_count": null,
      "outputs": []
    },
    {
      "cell_type": "code",
      "source": [
        "pitching_stats_2018.sum()"
      ],
      "metadata": {
        "id": "dAph4PbaY3XX",
        "colab": {
          "base_uri": "https://localhost:8080/"
        },
        "outputId": "0a41becf-d220-4952-ed7c-e89144dd0ab7"
      },
      "execution_count": null,
      "outputs": [
        {
          "output_type": "execute_result",
          "data": {
            "text/plain": [
              "teamIDfg     465                                                                                       \n",
              "Season       60540                                                                                     \n",
              "Team         HOULADCHCARIMILTBRATLBOSCLENYYOAKSTLSFGPITWSNNYMSEAPHILAACOLSDPMINDETCINMIACHWTORTEXKCRBAL\n",
              "Age          837                                                                                       \n",
              "W            2431                                                                                      \n",
              "L            2431                                                                                      \n",
              "ERA         124.59000                                                                                  \n",
              "G            21196                                                                                     \n",
              "GS           4862                                                                                      \n",
              "CG           42                                                                                        \n",
              "ShO          19                                                                                        \n",
              "SV           1244                                                                                      \n",
              "BS           632                                                                                       \n",
              "IP          43483.40000                                                                                \n",
              "TBF          185139                                                                                    \n",
              "H            41018                                                                                     \n",
              "R            21630                                                                                     \n",
              "ER           20051                                                                                     \n",
              "HR           5585                                                                                      \n",
              "BB           15686                                                                                     \n",
              "IBB          929                                                                                       \n",
              "HBP          1922                                                                                      \n",
              "WP           1847                                                                                      \n",
              "BK           151                                                                                       \n",
              "SO           41207                                                                                     \n",
              "GB           53705                                                                                     \n",
              "FB           43960                                                                                     \n",
              "LD           26677                                                                                     \n",
              "IFFB         4543                                                                                      \n",
              "Balls        261528                                                                                    \n",
              "Strikes      459663                                                                                    \n",
              "Pitches      721191                                                                                    \n",
              "RS           21630                                                                                     \n",
              "IFH          3642                                                                                      \n",
              "BU           1933                                                                                      \n",
              "BUH          539                                                                                       \n",
              "K/9         255.76000                                                                                  \n",
              "BB/9        97.40000                                                                                   \n",
              "K/BB        80.35000                                                                                   \n",
              "H/9         254.76000                                                                                  \n",
              "HR/9        34.70000                                                                                   \n",
              "AVG         7.34100                                                                                    \n",
              "WHIP        39.11000                                                                                   \n",
              "BABIP       8.79600                                                                                    \n",
              "LOB%        21.87600                                                                                   \n",
              "FIP         124.57000                                                                                  \n",
              "GB/FB       36.85000                                                                                   \n",
              "LD%         6.43200                                                                                    \n",
              "GB%         12.96200                                                                                   \n",
              "FB%         10.60200                                                                                   \n",
              "IFFB%       3.09800                                                                                    \n",
              "HR/FB       3.80900                                                                                    \n",
              "IFH%        2.03400                                                                                    \n",
              "BUH%        8.78700                                                                                    \n",
              "Starting    3082.80000                                                                                 \n",
              "Start-IP    25990.20000                                                                                \n",
              "Relieving   951.70000                                                                                  \n",
              "Relief-IP   17259.40000                                                                                \n",
              "RAR         4034.10000                                                                                 \n",
              "WAR         430.10000                                                                                  \n",
              "dtype: object"
            ]
          },
          "metadata": {},
          "execution_count": 11
        }
      ]
    },
    {
      "cell_type": "code",
      "source": [
        "pitching_stats_2019.sum()"
      ],
      "metadata": {
        "id": "97YIEPg4zOg0",
        "colab": {
          "base_uri": "https://localhost:8080/"
        },
        "outputId": "b847c34d-6644-4347-f8c4-22d4739ee9ab"
      },
      "execution_count": null,
      "outputs": [
        {
          "output_type": "execute_result",
          "data": {
            "text/plain": [
              "teamIDfg     465                                                                                       \n",
              "Season       60570                                                                                     \n",
              "Team         LADHOUTBRCLESTLOAKCHCCINMINATLARINYMWSNNYYSFGMILPHISDPBOSMIATORCHWSEATEXLAAPITKCRDETCOLBAL\n",
              "Age          837                                                                                       \n",
              "W            2429                                                                                      \n",
              "L            2429                                                                                      \n",
              "ERA         135.24000                                                                                  \n",
              "G            21429                                                                                     \n",
              "GS           4858                                                                                      \n",
              "CG           45                                                                                        \n",
              "ShO          26                                                                                        \n",
              "SV           1180                                                                                      \n",
              "BS           687                                                                                       \n",
              "IP          43418.20000                                                                                \n",
              "TBF          186516                                                                                    \n",
              "H            42039                                                                                     \n",
              "R            23467                                                                                     \n",
              "ER           21738                                                                                     \n",
              "HR           6776                                                                                      \n",
              "BB           15895                                                                                     \n",
              "IBB          753                                                                                       \n",
              "HBP          1984                                                                                      \n",
              "WP           1788                                                                                      \n",
              "BK           153                                                                                       \n",
              "SO           42823                                                                                     \n",
              "GB           53168                                                                                     \n",
              "FB           44283                                                                                     \n",
              "LD           26587                                                                                     \n",
              "IFFB         4359                                                                                      \n",
              "Balls        265711                                                                                    \n",
              "Strikes      466766                                                                                    \n",
              "Pitches      732477                                                                                    \n",
              "RS           23467                                                                                     \n",
              "IFH          3454                                                                                      \n",
              "BU           1698                                                                                      \n",
              "BUH          474                                                                                       \n",
              "K/9         266.20000                                                                                  \n",
              "BB/9        98.88000                                                                                   \n",
              "K/BB        82.14000                                                                                   \n",
              "H/9         261.48000                                                                                  \n",
              "HR/9        42.18000                                                                                   \n",
              "AVG         7.47500                                                                                    \n",
              "WHIP        40.02000                                                                                   \n",
              "BABIP       8.88000                                                                                    \n",
              "LOB%        21.71900                                                                                   \n",
              "FIP         135.22000                                                                                  \n",
              "GB/FB       36.22000                                                                                   \n",
              "LD%         6.42700                                                                                    \n",
              "GB%         12.86100                                                                                   \n",
              "FB%         10.71000                                                                                   \n",
              "IFFB%       2.95500                                                                                    \n",
              "HR/FB       4.58800                                                                                    \n",
              "IFH%        1.94900                                                                                    \n",
              "BUH%        8.86500                                                                                    \n",
              "Starting    3364.80000                                                                                 \n",
              "Start-IP    25071.10000                                                                                \n",
              "Relieving   877.70000                                                                                  \n",
              "Relief-IP   18100.00000                                                                                \n",
              "RAR         4242.40000                                                                                 \n",
              "WAR         429.90000                                                                                  \n",
              "dtype: object"
            ]
          },
          "metadata": {},
          "execution_count": 12
        }
      ]
    },
    {
      "cell_type": "code",
      "source": [
        "pitching_stats_2020.sum()"
      ],
      "metadata": {
        "id": "2OuTcX_vz_vG",
        "colab": {
          "base_uri": "https://localhost:8080/"
        },
        "outputId": "2375f1ab-44a8-4311-ca67-0f78d8508d5c"
      },
      "execution_count": null,
      "outputs": [
        {
          "output_type": "execute_result",
          "data": {
            "text/plain": [
              "teamIDfg     465                                                                                       \n",
              "Season       60600                                                                                     \n",
              "Team         LADCLETBRMINOAKCHWSDPCINSTLCHCMILKCRHOUNYYATLBALTORSFGPITARIMIANYMTEXSEALAAWSNPHIBOSCOLDET\n",
              "Age          834                                                                                       \n",
              "W            898                                                                                       \n",
              "L            898                                                                                       \n",
              "ERA         133.70000                                                                                  \n",
              "G            7959                                                                                      \n",
              "GS           1796                                                                                      \n",
              "CG           29                                                                                        \n",
              "ShO          12                                                                                        \n",
              "SV           422                                                                                       \n",
              "BS           248                                                                                       \n",
              "IP          15461.90000                                                                                \n",
              "TBF          66506                                                                                     \n",
              "H            14439                                                                                     \n",
              "R            8344                                                                                      \n",
              "ER           7654                                                                                      \n",
              "HR           2304                                                                                      \n",
              "BB           6092                                                                                      \n",
              "IBB          202                                                                                       \n",
              "HBP          821                                                                                       \n",
              "WP           675                                                                                       \n",
              "BK           63                                                                                        \n",
              "SO           15586                                                                                     \n",
              "GB           18619                                                                                     \n",
              "FB           15533                                                                                     \n",
              "LD           9418                                                                                      \n",
              "IFFB         1479                                                                                      \n",
              "Balls        97648                                                                                     \n",
              "Strikes      165943                                                                                    \n",
              "Pitches      263591                                                                                    \n",
              "RS           8344                                                                                      \n",
              "IFH          1299                                                                                      \n",
              "BU           400                                                                                       \n",
              "BUH          155                                                                                       \n",
              "K/9         272.05000                                                                                  \n",
              "BB/9        106.46000                                                                                  \n",
              "K/BB        78.63000                                                                                   \n",
              "H/9         252.10000                                                                                  \n",
              "HR/9        40.23000                                                                                   \n",
              "AVG         7.25900                                                                                    \n",
              "WHIP        39.82000                                                                                   \n",
              "BABIP       8.72000                                                                                    \n",
              "LOB%        21.58400                                                                                   \n",
              "FIP         133.70000                                                                                  \n",
              "GB/FB       36.25000                                                                                   \n",
              "LD%         6.48100                                                                                    \n",
              "GB%         12.82600                                                                                   \n",
              "FB%         10.69500                                                                                   \n",
              "IFFB%       2.84800                                                                                    \n",
              "HR/FB       4.46300                                                                                    \n",
              "IFH%        2.09100                                                                                    \n",
              "BUH%        11.45600                                                                                   \n",
              "Starting    1152.80000                                                                                 \n",
              "Start-IP    8528.30000                                                                                 \n",
              "Relieving   358.20000                                                                                  \n",
              "Relief-IP   6743.20000                                                                                 \n",
              "RAR         1510.70000                                                                                 \n",
              "WAR         159.00000                                                                                  \n",
              "dtype: object"
            ]
          },
          "metadata": {},
          "execution_count": 13
        }
      ]
    },
    {
      "cell_type": "code",
      "source": [
        "pitching_stats_2021.sum()"
      ],
      "metadata": {
        "id": "i4JMDW-4z_4A"
      },
      "execution_count": null,
      "outputs": []
    },
    {
      "cell_type": "code",
      "source": [
        "import seaborn as sns; sns.set_style('ticks');\n",
        "pitching_stats_2018.plot(x='SO', y='ERA', kind='scatter');"
      ],
      "metadata": {
        "colab": {
          "base_uri": "https://localhost:8080/",
          "height": 279
        },
        "id": "r6ZchULo7pqf",
        "outputId": "0cb8fc0b-18c0-4b66-95f1-9a44f92877ae"
      },
      "execution_count": null,
      "outputs": [
        {
          "output_type": "display_data",
          "data": {
            "text/plain": [
              "<Figure size 432x288 with 1 Axes>"
            ],
            "image/png": "[encoded data removed]"
          },
          "metadata": {}
        }
      ]
    },
    {
      "cell_type": "code",
      "source": [
        "import seaborn as sns; sns.set_style('ticks');\n",
        "pitching_stats_2019.plot(x='SO', y='ERA', kind='scatter');"
      ],
      "metadata": {
        "colab": {
          "base_uri": "https://localhost:8080/",
          "height": 279
        },
        "id": "WhC5J39M0TDI",
        "outputId": "eab26586-1feb-4384-ebfc-2029d7997fc7"
      },
      "execution_count": null,
      "outputs": [
        {
          "output_type": "display_data",
          "data": {
            "text/plain": [
              "<Figure size 432x288 with 1 Axes>"
            ],
            "image/png": "[encoded data removed]"
          },
          "metadata": {}
        }
      ]
    },
    {
      "cell_type": "code",
      "source": [
        "import seaborn as sns; sns.set_style('ticks');\n",
        "pitching_stats_2020.plot(x='SO', y='ERA', kind='scatter');"
      ],
      "metadata": {
        "id": "o6uHHExa0ZXA",
        "colab": {
          "base_uri": "https://localhost:8080/",
          "height": 279
        },
        "outputId": "408ef8db-c0c8-4db4-f9a4-dd9df42fd12a"
      },
      "execution_count": null,
      "outputs": [
        {
          "output_type": "display_data",
          "data": {
            "text/plain": [
              "<Figure size 432x288 with 1 Axes>"
            ],
            "image/png": "[encoded data removed]"
          },
          "metadata": {}
        }
      ]
    },
    {
      "cell_type": "code",
      "source": [
        "import seaborn as sns; sns.set_style('ticks');\n",
        "pitching_stats_2021.plot(x='SO', y='ERA', kind='scatter');"
      ],
      "metadata": {
        "id": "AiaUMJyc0Zin",
        "colab": {
          "base_uri": "https://localhost:8080/",
          "height": 279
        },
        "outputId": "fda239a5-4365-43ea-e8a3-fd7965b3aacc"
      },
      "execution_count": null,
      "outputs": [
        {
          "output_type": "display_data",
          "data": {
            "text/plain": [
              "<Figure size 432x288 with 1 Axes>"
            ],
            "image/png": "[encoded data removed]"
          },
          "metadata": {}
        }
      ]
    }
  ]
}