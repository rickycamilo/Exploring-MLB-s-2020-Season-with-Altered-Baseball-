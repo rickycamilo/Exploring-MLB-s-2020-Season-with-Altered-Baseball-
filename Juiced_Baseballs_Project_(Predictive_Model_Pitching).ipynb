{
  "nbformat": 4,
  "nbformat_minor": 0,
  "metadata": {
    "colab": {
      "name": "Juiced Baseballs Project (Predictive Model Pitching).ipynb",
      "provenance": [],
      "collapsed_sections": []
    },
    "kernelspec": {
      "name": "python3",
      "display_name": "Python 3"
    },
    "language_info": {
      "name": "python"
    }
  },
  "cells": [
    {
      "cell_type": "code",
      "execution_count": null,
      "metadata": {
        "id": "Wyo5i4m4ygxt"
      },
      "outputs": [],
      "source": [
        "%pip install pybaseball==2.2.1\n",
        "%matplotlib inline\n",
        "import pandas as pd; \n",
        "pd.set_option('display.max_rows', None)\n",
        "pd.set_option('display.max_columns', None)\n",
        "pd.set_option('display.width', None)\n",
        "pd.set_option('display.max_colwidth', -1)\n",
        "pd.set_option('display.float_format', lambda x: '%.5f' % x)\n",
        "import seaborn as sns\n",
        "import sklearn as sk\n",
        "import pybaseball as pyb\n",
        "from matplotlib import pyplot as plt\n",
        "from pybaseball import cache\n",
        "cache.enable()\n",
        "import warnings; warnings.filterwarnings('ignore')\n"
      ]
    },
    {
      "cell_type": "code",
      "source": [
        "pitch_df = pyb.team_pitching(2015, 2019)\n",
        "pitch_2019 = pyb.team_pitching(2018, 2019)\n",
        "pitch_df"
      ],
      "metadata": {
        "id": "LVsaaK-31ecf"
      },
      "execution_count": null,
      "outputs": []
    },
    {
      "cell_type": "code",
      "source": [
        "# creating our df for predicting a full 2020 season \n",
        "\n",
        "pitch_df_copy = pitch_df.copy()\n",
        "\n",
        "pitch_df_copy = pitch_df_copy.loc[:, ['Season','Team', 'G', 'H', 'SO', 'ERA', 'H/9', 'HR/9', 'EV']]\n",
        "\n",
        "pitch_df_copy['G_Next_Year'] = pitch_df_copy.sort_values(['Season','Team'], ascending=False).groupby('Team')['G'].shift()\n",
        "pitch_df_copy['H_Next_Year'] = pitch_df_copy.sort_values(['Season','Team'], ascending=False).groupby('Team')['H'].shift()\n",
        "pitch_df_copy['SO_Next_Year'] = pitch_df_copy.sort_values(['Season','Team'], ascending=False).groupby('Team')['SO'].shift()\n",
        "pitch_df_copy['ERA_Next_Year'] = pitch_df_copy.sort_values(['Season','Team'], ascending=False).groupby('Team')['ERA'].shift()\n",
        "pitch_df_copy['H/9_Next_Year'] = pitch_df_copy.sort_values(['Season','Team'], ascending=False).groupby('Team')['H/9'].shift()\n",
        "pitch_df_copy['HR/9_Next_Year'] = pitch_df_copy.sort_values(['Season','Team'], ascending=False).groupby('Team')['HR/9'].shift()\n",
        "pitch_df_copy['EV_Next_Year'] = pitch_df_copy.sort_values(['Season','Team'], ascending=False).groupby('Team')['EV'].shift()\n",
        "\n",
        "\n",
        "\n",
        "pitch_df_copy = pitch_df_copy.loc[pitch_df_copy['G_Next_Year'].notnull()]\n",
        "pitch_df_copy = pitch_df_copy.loc[pitch_df_copy['H_Next_Year'].notnull()]\n",
        "pitch_df_copy = pitch_df_copy.loc[pitch_df_copy['SO_Next_Year'].notnull()]\n",
        "pitch_df_copy = pitch_df_copy.loc[pitch_df_copy['ERA_Next_Year'].notnull()]\n",
        "pitch_df_copy = pitch_df_copy.loc[pitch_df_copy['H/9_Next_Year'].notnull()]\n",
        "pitch_df_copy = pitch_df_copy.loc[pitch_df_copy['HR/9_Next_Year'].notnull()]\n",
        "pitch_df_copy = pitch_df_copy.loc[pitch_df_copy['EV_Next_Year'].notnull()]\n",
        "\n",
        "\n",
        "\n",
        "pitch_df_copy\n"
      ],
      "metadata": {
        "id": "JrYLL3Ct13kA"
      },
      "execution_count": null,
      "outputs": []
    },
    {
      "cell_type": "code",
      "source": [
        "pitch_df_copy.corr() "
      ],
      "metadata": {
        "id": "aC__RJGH8ufA"
      },
      "execution_count": null,
      "outputs": []
    },
    {
      "cell_type": "code",
      "source": [
        "# splitting our data for x, y training and testing\n",
        "\n",
        "from sklearn.model_selection import train_test_split\n",
        "\n",
        "x = pitch_df_copy[['G', 'H', 'SO', 'ERA', 'H/9', 'HR/9', 'EV']].values\n",
        "y= pitch_df_copy[['G_Next_Year', 'H_Next_Year', 'SO_Next_Year', 'ERA_Next_Year', 'H/9_Next_Year','HR/9_Next_Year', 'EV_Next_Year']].values\n",
        "\n",
        "print('Original Data Shape - X: {0}, Y: {1}'.format(x.shape, y.shape))\n",
        "x_train, x_test, y_train, y_test = train_test_split(x, y, test_size=0.2, random_state=42)       #test size is 20% of original\n",
        "\n",
        "\n",
        "print('Train Data Shape - X{0}, Y:{1}.'.format(x_train.shape, y_train.shape) )\n",
        "print('Test Data Shape - X{0}, Y:{1}.'.format(x_test.shape, y_test.shape) )"
      ],
      "metadata": {
        "colab": {
          "base_uri": "https://localhost:8080/"
        },
        "id": "1vvTXuTc5hbR",
        "outputId": "adbb4b4f-e46e-48df-9785-1a9f50582e95"
      },
      "execution_count": null,
      "outputs": [
        {
          "output_type": "stream",
          "name": "stdout",
          "text": [
            "Original Data Shape - X: (120, 7), Y: (120, 7)\n",
            "Train Data Shape - X(96, 7), Y:(96, 7).\n",
            "Test Data Shape - X(24, 7), Y:(24, 7).\n"
          ]
        }
      ]
    },
    {
      "cell_type": "code",
      "source": [
        "#taking our training data and fitting it into our regression model \n",
        "\n",
        "from sklearn.linear_model import LinearRegression\n",
        "from sklearn.metrics import mean_absolute_error\n",
        "\n",
        "\n",
        "lr = LinearRegression()\n",
        "\n",
        "lr.fit(x_train, y_train)"
      ],
      "metadata": {
        "colab": {
          "base_uri": "https://localhost:8080/"
        },
        "id": "zcSro70Y887o",
        "outputId": "ff1da4ac-36df-4967-8bc8-4ca161e0f58f"
      },
      "execution_count": null,
      "outputs": [
        {
          "output_type": "execute_result",
          "data": {
            "text/plain": [
              "LinearRegression()"
            ]
          },
          "metadata": {},
          "execution_count": 17
        }
      ]
    },
    {
      "cell_type": "code",
      "source": [
        "\n",
        "y_pred = lr.predict(x_train)\n",
        "\n",
        "print ('Mean number of hits:', x_train[:, 0].mean())\n",
        "print ('Mean absolute error:', mean_absolute_error(y_pred, y_train))"
      ],
      "metadata": {
        "id": "a557yVJx9obx"
      },
      "execution_count": null,
      "outputs": []
    },
    {
      "cell_type": "code",
      "source": [
        "pitch_2019_copy = pitch_2019.copy()\n",
        "\n",
        "pitch_2019_copy = pitch_2019_copy.loc[:,['Season','Team', 'G', 'H', 'SO', 'ERA', 'H/9', 'HR/9', 'EV']]\n",
        "\n",
        "pitch_2019_copy['2019_actual_g'] = pitch_2019_copy.sort_values(['Team', 'Season'], ascending=False).groupby('Team')['G'].shift()\n",
        "pitch_2019_copy['2019_actual_h'] = pitch_2019_copy.sort_values(['Team', 'Season'], ascending=False).groupby('Team')['H'].shift()\n",
        "pitch_2019_copy['2019_actual_so'] = pitch_2019_copy.sort_values(['Team', 'Season'], ascending=False).groupby('Team')['SO'].shift()\n",
        "pitch_2019_copy['2019_actual_era'] = pitch_2019_copy.sort_values(['Team', 'Season'], ascending=False).groupby('Team')['ERA'].shift()\n",
        "pitch_2019_copy['2019_actual_h/9'] = pitch_2019_copy.sort_values(['Team', 'Season'], ascending=False).groupby('Team')['H/9'].shift()\n",
        "pitch_2019_copy['2019_actual_hr/9'] = pitch_2019_copy.sort_values(['Team', 'Season'], ascending=False).groupby('Team')['HR/9'].shift()\n",
        "pitch_2019_copy['2019_actual_ev'] = pitch_2019_copy.sort_values(['Team', 'Season'], ascending=False).groupby('Team')['EV'].shift()\n",
        "\n",
        "\n",
        "pitch_2019_copy = pitch_2019_copy.loc[pitch_2019_copy['2019_actual_so'].notnull()]\n",
        "\n",
        "pitch_2019_copy\n"
      ],
      "metadata": {
        "id": "zmpNkNRX_0lK"
      },
      "execution_count": null,
      "outputs": []
    },
    {
      "cell_type": "code",
      "source": [
        "x = pitch_2019_copy[['G', 'H', 'SO', 'ERA', 'H/9', 'HR/9','EV' ]].values\n",
        "y = pitch_2019_copy[['2019_actual_g', '2019_actual_h','2019_actual_so', '2019_actual_era', '2019_actual_h/9', '2019_actual_hr/9','2019_actual_ev']].values\n",
        "\n"
      ],
      "metadata": {
        "id": "KL62dOL7Cv_n"
      },
      "execution_count": null,
      "outputs": []
    },
    {
      "cell_type": "code",
      "source": [
        "y_pred = lr.predict(x)\n",
        "print('Mean of Stats:', pitch_2019_copy.mean())\n",
        "print('Mean absolute error:', mean_absolute_error(y_pred, y))"
      ],
      "metadata": {
        "id": "cROhSfE-BUz1"
      },
      "execution_count": null,
      "outputs": []
    },
    {
      "cell_type": "code",
      "source": [
        "pitch_2019_copy[['Predicted_G', 'Predicted_H', 'Predicted_SO', 'Predicted_ERA', 'Predicted_H/9', 'Predicted_HR/9','Predicted_EV']] = y_pred\n",
        "\n",
        "pitch_2019_copy['Season'] = 2019\n",
        "\n",
        "#pitch_2019_copy = pitch_2019_copy.rename(columns={'2019_actual_g':'Actual_G'}\n",
        "\n",
        "#use sort_values to find the top predicted hits\n",
        "pitch_2019_copy = pitch_2019_copy.loc[:,['Season','Team','2019_actual_g', '2019_actual_h', '2019_actual_so', '2019_actual_era', '2019_actual_h/9' , '2019_actual_hr/9', 'Predicted_G', 'Predicted_H', 'Predicted_SO', 'Predicted_ERA', 'Predicted_H/9', 'Predicted_HR/9','Predicted_EV' ]]\n",
        "\n"
      ],
      "metadata": {
        "id": "IlMURDgABU8d"
      },
      "execution_count": null,
      "outputs": []
    },
    {
      "cell_type": "code",
      "source": [
        "pitch_2019_copy"
      ],
      "metadata": {
        "id": "Ml2UDNXXaIsZ"
      },
      "execution_count": null,
      "outputs": []
    },
    {
      "cell_type": "code",
      "source": [
        "predicted_2020_stats = pitch_2019_copy.loc[:,['Team', 'Predicted_G', 'Predicted_H', 'Predicted_SO', 'Predicted_ERA', 'Predicted_H/9', 'Predicted_HR/9','Predicted_EV']]\n",
        "\n",
        "predicted_2020_stats\n"
      ],
      "metadata": {
        "id": "FjhJsQrHgu4I"
      },
      "execution_count": null,
      "outputs": []
    },
    {
      "cell_type": "code",
      "source": [
        "predicted_2020_stats.sum()"
      ],
      "metadata": {
        "colab": {
          "base_uri": "https://localhost:8080/"
        },
        "id": "AW5IoU0BhuO2",
        "outputId": "d53132e8-d324-4d75-885f-2fbf7c32b25a"
      },
      "execution_count": null,
      "outputs": [
        {
          "output_type": "execute_result",
          "data": {
            "text/plain": [
              "Team              HOULADCHCARIMILTBRATLBOSCLENYYOAKSTLSFGPITWSNNYMSEAPHILAACOLSDPMINDETCINMIACHWTORTEXKCRBAL\n",
              "Predicted_G      21233.51125                                                                                \n",
              "Predicted_H      41469.96162                                                                                \n",
              "Predicted_SO     42057.34419                                                                                \n",
              "Predicted_ERA    130.76561                                                                                  \n",
              "Predicted_H/9    258.18794                                                                                  \n",
              "Predicted_HR/9   39.29857                                                                                   \n",
              "Predicted_EV     2652.15757                                                                                 \n",
              "dtype: object"
            ]
          },
          "metadata": {},
          "execution_count": 26
        }
      ]
    }
  ]
}