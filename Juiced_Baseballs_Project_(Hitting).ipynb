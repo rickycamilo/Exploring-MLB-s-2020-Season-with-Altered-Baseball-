{
  "nbformat": 4,
  "nbformat_minor": 0,
  "metadata": {
    "colab": {
      "name": "Juiced Baseballs Project (Hitting).ipynb",
      "provenance": []
    },
    "kernelspec": {
      "name": "python3",
      "display_name": "Python 3"
    },
    "language_info": {
      "name": "python"
    }
  },
  "cells": [
    {
      "cell_type": "code",
      "source": [
        "%pip install pybaseball==2.2.1\n",
        "%matplotlib inline\n",
        "import pandas as pd; \n",
        "pd.set_option('display.max_rows', None)\n",
        "pd.set_option('display.max_columns', None)\n",
        "pd.set_option('display.width', None)\n",
        "pd.set_option('display.max_colwidth', -1)\n",
        "pd.set_option('display.float_format', lambda x: '%.5f' % x)\n",
        "\n",
        "import seaborn as sns\n",
        "import sklearn as sk\n",
        "import pybaseball as pyb\n",
        "from matplotlib import pyplot as plt\n",
        "from pybaseball import cache\n",
        "cache.enable()\n",
        "import warnings; warnings.filterwarnings('ignore')\n",
        "\n"
      ],
      "metadata": {
        "id": "FGzCwxDp9VAU"
      },
      "execution_count": null,
      "outputs": []
    },
    {
      "cell_type": "code",
      "source": [
        "#importing cumulative team batting stats from pybaseball\n",
        "\n",
        "\n",
        "from pybaseball import team_batting as team_batting\n",
        "\n",
        "batting_stats_2018 = team_batting(2018)\n",
        "\n",
        "batting_stats_2019 = team_batting(2019)\n",
        "\n",
        "batting_stats_2020 = team_batting(2020)\n",
        "\n",
        "batting_stats_2021 = team_batting(2021)\n",
        "\n",
        "#modifying data frames for each season to only show columns up to WAR\n",
        "\n",
        "batting_stats_2018 = batting_stats_2018.loc[:, :'WAR']\n",
        "\n",
        "batting_stats_2019 = batting_stats_2019.loc[:, :'WAR']\n",
        "                                            \n",
        "batting_stats_2020 = batting_stats_2020.loc[:, :'WAR']\n",
        "                                            \n",
        "batting_stats_2021 = batting_stats_2021.loc[:, :'WAR']\n",
        "\n"
      ],
      "metadata": {
        "id": "xKn6fcpyM7Jp"
      },
      "execution_count": null,
      "outputs": []
    },
    {
      "cell_type": "code",
      "source": [
        "batting_stats_2018"
      ],
      "metadata": {
        "id": "rHMWgIYX_Ri3"
      },
      "execution_count": null,
      "outputs": []
    },
    {
      "cell_type": "code",
      "source": [
        "batting_stats_2019"
      ],
      "metadata": {
        "id": "79W46-ARZOX8"
      },
      "execution_count": null,
      "outputs": []
    },
    {
      "cell_type": "code",
      "source": [
        "batting_stats_2020"
      ],
      "metadata": {
        "id": "emL7J1XN9VXB"
      },
      "execution_count": null,
      "outputs": []
    },
    {
      "cell_type": "code",
      "source": [
        "batting_stats_2021"
      ],
      "metadata": {
        "id": "bLmX8VFN9Vfx"
      },
      "execution_count": null,
      "outputs": []
    },
    {
      "cell_type": "code",
      "source": [
        "batting_stats_2018.sum()"
      ],
      "metadata": {
        "id": "O_vyget9P7M_"
      },
      "execution_count": null,
      "outputs": []
    },
    {
      "cell_type": "code",
      "source": [
        "batting_stats_2019.sum()"
      ],
      "metadata": {
        "id": "e9Tuv-YH9VwL"
      },
      "execution_count": null,
      "outputs": []
    },
    {
      "cell_type": "code",
      "source": [
        "batting_stats_2020.sum()"
      ],
      "metadata": {
        "id": "kIGpI1ld9V3t"
      },
      "execution_count": null,
      "outputs": []
    },
    {
      "cell_type": "code",
      "source": [
        "batting_stats_2021.sum()"
      ],
      "metadata": {
        "id": "Cgcx2Cs1d9S7"
      },
      "execution_count": null,
      "outputs": []
    },
    {
      "cell_type": "code",
      "source": [
        "import seaborn as sns; sns.set_style('ticks');\n",
        "batting_stats_2018.plot(x='HR', y='AVG', kind='scatter');\n"
      ],
      "metadata": {
        "colab": {
          "base_uri": "https://localhost:8080/",
          "height": 279
        },
        "id": "V4YawYdZ6E-g",
        "outputId": "7c16a2c8-6f4a-4ef4-dd5b-ab5c7e1949bc"
      },
      "execution_count": null,
      "outputs": [
        {
          "output_type": "display_data",
          "data": {
            "text/plain": [
              "<Figure size 432x288 with 1 Axes>"
            ],
            "image/png": "[encoded data removed]"
          },
          "metadata": {}
        }
      ]
    },
    {
      "cell_type": "code",
      "source": [
        "import seaborn as sns; sns.set_style('ticks');\n",
        "batting_stats_2019.plot(x='HR', y='AVG', kind='scatter');"
      ],
      "metadata": {
        "colab": {
          "base_uri": "https://localhost:8080/",
          "height": 279
        },
        "id": "biWRw_Q03c6d",
        "outputId": "54b53777-b08c-4a35-8ada-40ccbb6e847a"
      },
      "execution_count": null,
      "outputs": [
        {
          "output_type": "display_data",
          "data": {
            "text/plain": [
              "<Figure size 432x288 with 1 Axes>"
            ],
            "image/png": "[encoded data removed]"
          },
          "metadata": {}
        }
      ]
    },
    {
      "cell_type": "code",
      "source": [
        "import seaborn as sns; sns.set_style('ticks');\n",
        "batting_stats_2020.plot(x='HR', y='AVG', kind='scatter');"
      ],
      "metadata": {
        "colab": {
          "base_uri": "https://localhost:8080/",
          "height": 279
        },
        "id": "VvnAWpJb4IsQ",
        "outputId": "56594be9-a866-4a03-b1c0-848ea9ce7433"
      },
      "execution_count": null,
      "outputs": [
        {
          "output_type": "display_data",
          "data": {
            "text/plain": [
              "<Figure size 432x288 with 1 Axes>"
            ],
            "image/png": "[encoded data removed]"
          },
          "metadata": {}
        }
      ]
    },
    {
      "cell_type": "code",
      "source": [
        "import seaborn as sns; sns.set_style('ticks');\n",
        "batting_stats_2021.plot(x='HR', y='AVG', kind='scatter');"
      ],
      "metadata": {
        "colab": {
          "base_uri": "https://localhost:8080/",
          "height": 279
        },
        "id": "q7P7xCSY4I8f",
        "outputId": "86bc3a7f-899c-4f88-d3a1-ecc19cb5a946"
      },
      "execution_count": null,
      "outputs": [
        {
          "output_type": "display_data",
          "data": {
            "text/plain": [
              "<Figure size 432x288 with 1 Axes>"
            ],
            "image/png": "[encoded data removed]"
          },
          "metadata": {}
        }
      ]
    }
  ]
}