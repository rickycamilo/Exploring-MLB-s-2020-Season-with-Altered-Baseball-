{
  "nbformat": 4,
  "nbformat_minor": 0,
  "metadata": {
    "colab": {
      "name": "Juiced Baseballs Project (Statcast).ipynb",
      "provenance": []
    },
    "kernelspec": {
      "name": "python3",
      "display_name": "Python 3"
    },
    "language_info": {
      "name": "python"
    }
  },
  "cells": [
    {
      "cell_type": "code",
      "execution_count": null,
      "metadata": {
        "id": "c_LVnRUgHwt0"
      },
      "outputs": [],
      "source": [
        "%pip install pybaseball==2.2.1\n",
        "%matplotlib inline\n",
        "import pandas as pd; \n",
        "pd.set_option('display.max_rows', None)\n",
        "pd.set_option('display.max_columns', None)\n",
        "pd.set_option('display.width', None)\n",
        "pd.set_option('display.max_colwidth', -1)\n",
        "pd.set_option('display.float_format', lambda x: '%.5f' % x)\n",
        "\n",
        "import seaborn as sns\n",
        "import sklearn as sk\n",
        "import pybaseball as pyb\n",
        "from matplotlib import pyplot as plt\n",
        "from pybaseball import cache\n",
        "cache.enable()\n",
        "import warnings; warnings.filterwarnings('ignore')\n"
      ]
    },
    {
      "cell_type": "code",
      "source": [
        "\n",
        "# exit velocity data averaged by team and season per df \n",
        "\n",
        "import pandas as pd\n",
        "\n",
        "hitting_velo_2018 = pd.read_csv(\"hitting 2018 exit_velocity.csv\")\n",
        "\n",
        "hitting_velo_2019 = pd.read_csv(\"hitting 2019 exit_velocity.csv\")\n",
        "\n",
        "hitting_velo_2020 = pd.read_csv(\"hitting 2020 exit_velocity.csv\")\n",
        "\n",
        "hitting_velo_2021 = pd.read_csv(\"hitting 2021 exit_velocity.csv\")\n",
        "\n",
        "\n"
      ],
      "metadata": {
        "id": "zyOp51WnwE_S"
      },
      "execution_count": null,
      "outputs": []
    },
    {
      "cell_type": "code",
      "source": [
        "hitting_velo_2018.mean()\n"
      ],
      "metadata": {
        "id": "0EQjWIqEj_kL",
        "colab": {
          "base_uri": "https://localhost:8080/"
        },
        "outputId": "08bc1424-59a9-4257-cca3-3475933e2f7e"
      },
      "execution_count": null,
      "outputs": [
        {
          "output_type": "execute_result",
          "data": {
            "text/plain": [
              "season                  2018.00000\n",
              "team_id                 128.70000 \n",
              "attempts                4209.46667\n",
              "avg_hit_angle           12.34333  \n",
              "anglesweetspotpercent   33.44333  \n",
              "max_hit_speed           116.07333 \n",
              "avg_hit_speed           88.41000  \n",
              "fbld                    92.33333  \n",
              "gb                      85.95000  \n",
              "max_distance            465.83333 \n",
              "avg_distance            172.16667 \n",
              "avg_hr_distance         397.36667 \n",
              "ev95plus                1492.66667\n",
              "ev95per-swing           13.33667  \n",
              "ev95percent             35.46000  \n",
              "barrels                 281.00000 \n",
              "brl_percent             6.68000   \n",
              "brl_pa                  4.55000   \n",
              "dtype: float64"
            ]
          },
          "metadata": {},
          "execution_count": 28
        }
      ]
    },
    {
      "cell_type": "code",
      "source": [
        "hitting_velo_2019.mean()\n"
      ],
      "metadata": {
        "colab": {
          "base_uri": "https://localhost:8080/"
        },
        "id": "JXxkUz3fXoyi",
        "outputId": "c8241272-c18f-42a7-f567-5301a83ee3bb"
      },
      "execution_count": null,
      "outputs": [
        {
          "output_type": "execute_result",
          "data": {
            "text/plain": [
              "season                  2019.00000\n",
              "team_id                 128.70000 \n",
              "attempts                4191.83333\n",
              "avg_hit_angle           12.67667  \n",
              "anglesweetspotpercent   33.54000  \n",
              "max_hit_speed           116.05000 \n",
              "avg_hit_speed           88.72333  \n",
              "fbld                    92.67000  \n",
              "gb                      86.07667  \n",
              "max_distance            473.50000 \n",
              "avg_distance            175.63333 \n",
              "avg_hr_distance         400.20000 \n",
              "ev95plus                1529.03333\n",
              "ev95per-swing           13.31667  \n",
              "ev95percent             36.47333  \n",
              "barrels                 307.56667 \n",
              "brl_percent             7.32333   \n",
              "brl_pa                  4.94000   \n",
              "dtype: float64"
            ]
          },
          "metadata": {},
          "execution_count": 29
        }
      ]
    },
    {
      "cell_type": "code",
      "source": [
        "hitting_velo_2020.mean()\n"
      ],
      "metadata": {
        "colab": {
          "base_uri": "https://localhost:8080/"
        },
        "id": "Ap34FbHTXo-P",
        "outputId": "612049ea-fd82-4ac6-8aac-6d4dec325f13"
      },
      "execution_count": null,
      "outputs": [
        {
          "output_type": "execute_result",
          "data": {
            "text/plain": [
              "season                  2020.00000\n",
              "team_id                 128.70000 \n",
              "attempts                1465.73333\n",
              "avg_hit_angle           12.72333  \n",
              "anglesweetspotpercent   33.40333  \n",
              "max_hit_speed           114.85667 \n",
              "avg_hit_speed           88.43667  \n",
              "fbld                    92.80333  \n",
              "gb                      85.32000  \n",
              "max_distance            458.73333 \n",
              "avg_distance            168.53333 \n",
              "avg_hr_distance         400.80000 \n",
              "ev95plus                550.90000 \n",
              "ev95per-swing           13.65333  \n",
              "ev95percent             37.56000  \n",
              "barrels                 111.76667 \n",
              "brl_percent             7.60000   \n",
              "brl_pa                  5.04333   \n",
              "dtype: float64"
            ]
          },
          "metadata": {},
          "execution_count": 30
        }
      ]
    },
    {
      "cell_type": "code",
      "source": [
        "hitting_velo_2021.mean()\n"
      ],
      "metadata": {
        "colab": {
          "base_uri": "https://localhost:8080/"
        },
        "id": "xiRR7-9bXpFP",
        "outputId": "71523ec9-fe38-49ca-d176-5890bacdfea0"
      },
      "execution_count": null,
      "outputs": [
        {
          "output_type": "execute_result",
          "data": {
            "text/plain": [
              "season                  2021.00000\n",
              "team_id                 128.70000 \n",
              "attempts                4056.86667\n",
              "avg_hit_angle           12.54333  \n",
              "anglesweetspotpercent   33.47000  \n",
              "max_hit_speed           116.55000 \n",
              "avg_hit_speed           88.76000  \n",
              "fbld                    92.97333  \n",
              "gb                      85.73000  \n",
              "max_distance            469.00000 \n",
              "avg_distance            166.96667 \n",
              "avg_hr_distance         400.93333 \n",
              "ev95plus                1569.60000\n",
              "ev95per-swing           14.07000  \n",
              "ev95percent             38.67667  \n",
              "barrels                 321.26667 \n",
              "brl_percent             7.92333   \n",
              "brl_pa                  5.29667   \n",
              "dtype: float64"
            ]
          },
          "metadata": {},
          "execution_count": 27
        }
      ]
    }
  ]
}